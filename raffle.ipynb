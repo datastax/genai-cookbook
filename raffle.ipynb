{
  "nbformat": 4,
  "nbformat_minor": 0,
  "metadata": {
    "colab": {
      "provenance": []
    },
    "kernelspec": {
      "name": "python3",
      "display_name": "Python 3"
    },
    "language_info": {
      "name": "python"
    }
  },
  "cells": [
    {
      "cell_type": "markdown",
      "source": [
        "# Raffle ticket writer/picker with DataStax Astra DB vector database and RAGStack\n",
        "\n"
      ],
      "metadata": {
        "id": "pSVsjsxJYlef"
      }
    },
    {
      "cell_type": "markdown",
      "source": [
        "This notebook takes you through the steps to build a simple application GenAI application to store (and draw) raffle winners. The idea is to be able to enter the names of conference attendees one-at-a-time. When the raffle is over, a random phrase must be entered to generate the winning embedding. The results are returned in the order of their similarity to the random phrase.\n",
        "\n",
        "Requirements:\n",
        " - Access to the [all-MiniLM-L6-v2](https://huggingface.co/sentence-transformers/all-MiniLM-L6-v2) 384 dimensional sentence transformer on [Hugging Face](https://huggingface.co/).\n",
        " - A free account and vector database with [Astra DB](https://astra.datastax.com/).\n",
        "     - Sufficient resources for this notebook to build a collection named `raffle_data` with a:\n",
        "         - 384 dimensional vector structure.\n",
        "         - cosine metric.\n",
        " - An API endpoint for Astra DB.\n",
        " - An access token for Astra DB.\n",
        "\n",
        "*Note: This notebook will create the `raffle_data` collection if it does not exist.*"
      ],
      "metadata": {
        "id": "ih5ZaynCut9V"
      }
    },
    {
      "cell_type": "markdown",
      "source": [
        "## Install the DataStax RAGStack and SentenceTransformers libraries."
      ],
      "metadata": {
        "id": "q-aQF4kXYW9d"
      }
    },
    {
      "cell_type": "code",
      "execution_count": null,
      "metadata": {
        "id": "tlC0ANzhXaPx",
        "cellView": "form"
      },
      "outputs": [],
      "source": [
        "# @title\n",
        "!pip install ragstack-ai sentence-transformers"
      ]
    },
    {
      "cell_type": "markdown",
      "source": [
        "## Library Imports"
      ],
      "metadata": {
        "id": "WT48XZXLY3mI"
      }
    },
    {
      "cell_type": "code",
      "source": [
        "import json\n",
        "import os\n",
        "\n",
        "from getpass import getpass\n",
        "from astrapy.db import AstraDB\n",
        "from sentence_transformers import SentenceTransformer"
      ],
      "metadata": {
        "id": "HU56dcCnY3RN"
      },
      "execution_count": null,
      "outputs": []
    },
    {
      "cell_type": "markdown",
      "source": [
        "## Environment Variables"
      ],
      "metadata": {
        "id": "2KeQGuEVaQrq"
      }
    },
    {
      "cell_type": "code",
      "source": [
        "ASTRA_DB_TOKEN = getpass('Your Astra DB Token (\"AstraCS:...\"): ')"
      ],
      "metadata": {
        "id": "4hHxORm9aTJ2"
      },
      "execution_count": null,
      "outputs": []
    },
    {
      "cell_type": "code",
      "source": [
        "ASTRA_DB_ENDPOINT = input('Your Astra DB API endpoint: ')\n",
        "ASTRA_DB_NAMESPACE='default_keyspace'\n",
        "ASTRA_DB_COLLECTION_NAME='raffle_data'"
      ],
      "metadata": {
        "id": "5inR_IwEaYpH"
      },
      "execution_count": null,
      "outputs": []
    },
    {
      "cell_type": "markdown",
      "source": [
        "## Connect to Astra DB"
      ],
      "metadata": {
        "id": "rYeoodKwaOoX"
      }
    },
    {
      "cell_type": "code",
      "source": [
        "db = AstraDB(\n",
        "    token=ASTRA_DB_TOKEN,\n",
        "    api_endpoint=ASTRA_DB_ENDPOINT,\n",
        "    namespace=ASTRA_DB_NAMESPACE,\n",
        ")\n",
        "collection = db.create_collection(ASTRA_DB_COLLECTION_NAME, dimension=384, metric=\"cosine\")"
      ],
      "metadata": {
        "id": "CM7ccMeSbDIG"
      },
      "execution_count": null,
      "outputs": []
    },
    {
      "cell_type": "markdown",
      "source": [
        "## Initialize Sentence Transformer \"all-MiniLM-L6-v2\" model locally"
      ],
      "metadata": {
        "id": "ItXH0z1Gdv3p"
      }
    },
    {
      "cell_type": "code",
      "source": [
        "# initialize the all-MiniLM-L6-v2 model locally\n",
        "model = SentenceTransformer('all-MiniLM-L6-v2')"
      ],
      "metadata": {
        "id": "p_dCORradl9L"
      },
      "execution_count": null,
      "outputs": []
    },
    {
      "cell_type": "markdown",
      "source": [
        "## Enter attendee's name and email\n",
        "A vector embedding will be generated for the attendee's name and email address, and it will be stored in Astra DB."
      ],
      "metadata": {
        "id": "4iXV4gbIdNWE"
      }
    },
    {
      "cell_type": "code",
      "source": [
        "name = input(\"Enter attendee's name: \")\n",
        "email = input(\"Enter attendee's email address: \")\n",
        "\n",
        "vector_embedding = model.encode(name + email)\n",
        "strJson = (f'{{\"_id\":\"{name.replace(\" \",\"\")}\",\"name\":\"{name}\",\"email\":\"{email}\",\"$vector\":{str(vector_embedding.tolist())}}}')\n",
        "doc = json.loads(strJson)\n",
        "\n",
        "collection.insert_one(doc)\n",
        "\n",
        "# show vector embedding\n",
        "print(vector_embedding)"
      ],
      "metadata": {
        "id": "itLLsFqLeDo5"
      },
      "execution_count": null,
      "outputs": []
    },
    {
      "cell_type": "markdown",
      "source": [
        "## Draw winning names\n",
        "\n",
        "Generate a vector embedding"
      ],
      "metadata": {
        "id": "S5awoSXAgeGh"
      }
    },
    {
      "cell_type": "code",
      "source": [
        "search_string = input(\"Enter a phrase to generate an embedding: \")"
      ],
      "metadata": {
        "id": "j6VcUtUhg3ZP"
      },
      "execution_count": null,
      "outputs": []
    },
    {
      "cell_type": "code",
      "source": [
        "winner_embedding = model.encode(search_string)\n",
        "print(winner_embedding.tolist())\n",
        "#results = collection.vector_find(winner_embedding.tolist(), limit=9, include_similarity=1, fields={\"name\",\"email\"})\n",
        "#print(str(results).replace(\"}, {\",\"},\\n{\"))"
      ],
      "metadata": {
        "id": "2eeDCduGgi-8"
      },
      "execution_count": null,
      "outputs": []
    }
  ]
}