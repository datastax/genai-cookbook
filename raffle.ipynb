{
  "cells": [
    {
      "cell_type": "markdown",
      "metadata": {
        "id": "pSVsjsxJYlef"
      },
      "source": [
        "# Raffle ticket writer/picker with DataStax Astra DB vector database and RAGStack\n",
        "\n"
      ]
    },
    {
      "cell_type": "markdown",
      "metadata": {
        "id": "ih5ZaynCut9V"
      },
      "source": [
        "This notebook takes you through the steps to build a simple application GenAI application to store (and draw) raffle winners. The idea is to be able to enter the names of conference attendees one-at-a-time. When the raffle is over, a random phrase must be entered to generate the winning embedding. The results are returned in the order of their similarity to the random phrase.\n",
        "\n",
        "Requirements:\n",
        " - Access to the [all-MiniLM-L6-v2](https://huggingface.co/sentence-transformers/all-MiniLM-L6-v2) 384 dimensional sentence transformer on [Hugging Face](https://huggingface.co/).\n",
        " - A free account and vector database with [Astra DB](https://astra.datastax.com/).\n",
        "     - Sufficient resources for this notebook to build a collection named `raffle_data` with a:\n",
        "         - 384 dimensional vector structure.\n",
        "         - cosine metric.\n",
        " - An API endpoint for Astra DB.\n",
        " - An access token for Astra DB.\n",
        "\n",
        "*Note: This notebook will create the `raffle_data` collection if it does not exist.*"
      ]
    },
    {
      "cell_type": "markdown",
      "metadata": {
        "id": "q-aQF4kXYW9d"
      },
      "source": [
        "## Install the DataStax RAGStack and SentenceTransformers libraries."
      ]
    },
    {
      "cell_type": "code",
      "execution_count": null,
      "metadata": {
        "cellView": "form",
        "id": "tlC0ANzhXaPx"
      },
      "outputs": [],
      "source": [
        "# @title\n",
        "!pip install astrapy sentence-transformers"
      ]
    },
    {
      "cell_type": "markdown",
      "metadata": {
        "id": "WT48XZXLY3mI"
      },
      "source": [
        "## Library Imports"
      ]
    },
    {
      "cell_type": "code",
      "execution_count": null,
      "metadata": {
        "id": "HU56dcCnY3RN"
      },
      "outputs": [],
      "source": [
        "import os\n",
        "\n",
        "from getpass import getpass\n",
        "from astrapy import DataAPIClient\n",
        "from sentence_transformers import SentenceTransformer"
      ]
    },
    {
      "cell_type": "markdown",
      "metadata": {
        "id": "2KeQGuEVaQrq"
      },
      "source": [
        "## Environment Variables"
      ]
    },
    {
      "cell_type": "code",
      "execution_count": null,
      "metadata": {
        "id": "4hHxORm9aTJ2"
      },
      "outputs": [],
      "source": [
        "ASTRA_DB_APPLICATION_TOKEN = getpass('Your Astra DB Token (\"AstraCS:...\"): ')"
      ]
    },
    {
      "cell_type": "code",
      "execution_count": null,
      "metadata": {
        "id": "5inR_IwEaYpH"
      },
      "outputs": [],
      "source": [
        "ASTRA_DB_API_ENDPOINT = input('Your Astra DB API endpoint: ')\n",
        "ASTRA_DB_NAMESPACE='default_keyspace'\n",
        "ASTRA_DB_COLLECTION_NAME='raffle_data'"
      ]
    },
    {
      "cell_type": "markdown",
      "metadata": {
        "id": "rYeoodKwaOoX"
      },
      "source": [
        "## Connect to Astra DB"
      ]
    },
    {
      "cell_type": "code",
      "execution_count": null,
      "metadata": {
        "id": "CM7ccMeSbDIG"
      },
      "outputs": [],
      "source": [
        "client = DataAPIClient(ASTRA_DB_APPLICATION_TOKEN)\n",
        "database = client.get_database_by_api_endpoint(ASTRA_DB_API_ENDPOINT)\n",
        "collection = database.create_collection(ASTRA_DB_COLLECTION_NAME, dimension=384, metric=\"cosine\", check_exists=False)"
      ]
    },
    {
      "cell_type": "markdown",
      "metadata": {
        "id": "ItXH0z1Gdv3p"
      },
      "source": [
        "## Initialize Sentence Transformer \"all-MiniLM-L6-v2\" model locally"
      ]
    },
    {
      "cell_type": "code",
      "execution_count": null,
      "metadata": {
        "id": "p_dCORradl9L"
      },
      "outputs": [],
      "source": [
        "# initialize the all-MiniLM-L6-v2 model locally\n",
        "model = SentenceTransformer('all-MiniLM-L6-v2')"
      ]
    },
    {
      "cell_type": "markdown",
      "metadata": {
        "id": "4iXV4gbIdNWE"
      },
      "source": [
        "## Enter attendee's name and email\n",
        "A vector embedding will be generated for the attendee's name and email address, and it will be stored in Astra DB."
      ]
    },
    {
      "cell_type": "code",
      "execution_count": 15,
      "metadata": {
        "id": "itLLsFqLeDo5"
      },
      "outputs": [
        {
          "ename": "DataAPIResponseException",
          "evalue": "Document key name constraints violated: property name ('foo@bar.com') contains character(s) not allowed",
          "output_type": "error",
          "traceback": [
            "\u001b[0;31m---------------------------------------------------------------------------\u001b[0m",
            "\u001b[0;31mAPIRequestError\u001b[0m                           Traceback (most recent call last)",
            "File \u001b[0;32m~/Code/genai-cookbook/venv/lib/python3.12/site-packages/astrapy/core/api.py:82\u001b[0m, in \u001b[0;36mprocess_raw_api_response\u001b[0;34m(raw_response, skip_error_check, json_data)\u001b[0m\n\u001b[1;32m     80\u001b[0m     logger\u001b[38;5;241m.\u001b[39mdebug(response_body[\u001b[38;5;124m\"\u001b[39m\u001b[38;5;124merrors\u001b[39m\u001b[38;5;124m\"\u001b[39m])\n\u001b[0;32m---> 82\u001b[0m     \u001b[38;5;28;01mraise\u001b[39;00m APIRequestError(raw_response, payload\u001b[38;5;241m=\u001b[39mjson_data)\n\u001b[1;32m     84\u001b[0m \u001b[38;5;66;03m# Otherwise, set the response body\u001b[39;00m\n",
            "\u001b[0;31mAPIRequestError\u001b[0m: {\"errors\":[{\"message\":\"Document key name constraints violated: property name ('foo@bar.com') contains character(s) not allowed\",\"errorCode\":\"SHRED_DOC_KEY_NAME_VIOLATION\"}]}",
            "\nDuring handling of the above exception, another exception occurred:\n",
            "\u001b[0;31mAPIRequestError\u001b[0m                           Traceback (most recent call last)",
            "File \u001b[0;32m~/Code/genai-cookbook/venv/lib/python3.12/site-packages/astrapy/exceptions.py:663\u001b[0m, in \u001b[0;36mrecast_method_sync.<locals>._wrapped_sync\u001b[0;34m(*pargs, **kwargs)\u001b[0m\n\u001b[1;32m    662\u001b[0m \u001b[38;5;28;01mtry\u001b[39;00m:\n\u001b[0;32m--> 663\u001b[0m     \u001b[38;5;28;01mreturn\u001b[39;00m \u001b[43mmethod\u001b[49m\u001b[43m(\u001b[49m\u001b[38;5;241;43m*\u001b[39;49m\u001b[43mpargs\u001b[49m\u001b[43m,\u001b[49m\u001b[43m \u001b[49m\u001b[38;5;241;43m*\u001b[39;49m\u001b[38;5;241;43m*\u001b[39;49m\u001b[43mkwargs\u001b[49m\u001b[43m)\u001b[49m\n\u001b[1;32m    664\u001b[0m \u001b[38;5;28;01mexcept\u001b[39;00m APIRequestError \u001b[38;5;28;01mas\u001b[39;00m exc:\n",
            "File \u001b[0;32m~/Code/genai-cookbook/venv/lib/python3.12/site-packages/astrapy/collection.py:579\u001b[0m, in \u001b[0;36mCollection.insert_one\u001b[0;34m(self, document, vector, vectorize, max_time_ms)\u001b[0m\n\u001b[1;32m    578\u001b[0m logger\u001b[38;5;241m.\u001b[39minfo(\u001b[38;5;124mf\u001b[39m\u001b[38;5;124m\"\u001b[39m\u001b[38;5;124minserting one document in \u001b[39m\u001b[38;5;124m'\u001b[39m\u001b[38;5;132;01m{\u001b[39;00m\u001b[38;5;28mself\u001b[39m\u001b[38;5;241m.\u001b[39mname\u001b[38;5;132;01m}\u001b[39;00m\u001b[38;5;124m'\u001b[39m\u001b[38;5;124m\"\u001b[39m)\n\u001b[0;32m--> 579\u001b[0m io_response \u001b[38;5;241m=\u001b[39m \u001b[38;5;28;43mself\u001b[39;49m\u001b[38;5;241;43m.\u001b[39;49m\u001b[43m_astra_db_collection\u001b[49m\u001b[38;5;241;43m.\u001b[39;49m\u001b[43minsert_one\u001b[49m\u001b[43m(\u001b[49m\n\u001b[1;32m    580\u001b[0m \u001b[43m    \u001b[49m\u001b[43m_document\u001b[49m\u001b[43m,\u001b[49m\n\u001b[1;32m    581\u001b[0m \u001b[43m    \u001b[49m\u001b[43mtimeout_info\u001b[49m\u001b[38;5;241;43m=\u001b[39;49m\u001b[43mbase_timeout_info\u001b[49m\u001b[43m(\u001b[49m\u001b[43mmax_time_ms\u001b[49m\u001b[43m)\u001b[49m\u001b[43m,\u001b[49m\n\u001b[1;32m    582\u001b[0m \u001b[43m\u001b[49m\u001b[43m)\u001b[49m\n\u001b[1;32m    583\u001b[0m logger\u001b[38;5;241m.\u001b[39minfo(\u001b[38;5;124mf\u001b[39m\u001b[38;5;124m\"\u001b[39m\u001b[38;5;124mfinished inserting one document in \u001b[39m\u001b[38;5;124m'\u001b[39m\u001b[38;5;132;01m{\u001b[39;00m\u001b[38;5;28mself\u001b[39m\u001b[38;5;241m.\u001b[39mname\u001b[38;5;132;01m}\u001b[39;00m\u001b[38;5;124m'\u001b[39m\u001b[38;5;124m\"\u001b[39m)\n",
            "File \u001b[0;32m~/Code/genai-cookbook/venv/lib/python3.12/site-packages/astrapy/core/db.py:916\u001b[0m, in \u001b[0;36mAstraDBCollection.insert_one\u001b[0;34m(self, document, failures_allowed, timeout_info)\u001b[0m\n\u001b[1;32m    914\u001b[0m json_query \u001b[38;5;241m=\u001b[39m make_payload(top_level\u001b[38;5;241m=\u001b[39m\u001b[38;5;124m\"\u001b[39m\u001b[38;5;124minsertOne\u001b[39m\u001b[38;5;124m\"\u001b[39m, document\u001b[38;5;241m=\u001b[39mdocument)\n\u001b[0;32m--> 916\u001b[0m response \u001b[38;5;241m=\u001b[39m \u001b[38;5;28;43mself\u001b[39;49m\u001b[38;5;241;43m.\u001b[39;49m\u001b[43m_request\u001b[49m\u001b[43m(\u001b[49m\n\u001b[1;32m    917\u001b[0m \u001b[43m    \u001b[49m\u001b[43mmethod\u001b[49m\u001b[38;5;241;43m=\u001b[39;49m\u001b[43mhttp_methods\u001b[49m\u001b[38;5;241;43m.\u001b[39;49m\u001b[43mPOST\u001b[49m\u001b[43m,\u001b[49m\n\u001b[1;32m    918\u001b[0m \u001b[43m    \u001b[49m\u001b[43mpath\u001b[49m\u001b[38;5;241;43m=\u001b[39;49m\u001b[38;5;28;43mself\u001b[39;49m\u001b[38;5;241;43m.\u001b[39;49m\u001b[43mbase_path\u001b[49m\u001b[43m,\u001b[49m\n\u001b[1;32m    919\u001b[0m \u001b[43m    \u001b[49m\u001b[43mjson_data\u001b[49m\u001b[38;5;241;43m=\u001b[39;49m\u001b[43mjson_query\u001b[49m\u001b[43m,\u001b[49m\n\u001b[1;32m    920\u001b[0m \u001b[43m    \u001b[49m\u001b[43mskip_error_check\u001b[49m\u001b[38;5;241;43m=\u001b[39;49m\u001b[43mfailures_allowed\u001b[49m\u001b[43m,\u001b[49m\n\u001b[1;32m    921\u001b[0m \u001b[43m    \u001b[49m\u001b[43mtimeout_info\u001b[49m\u001b[38;5;241;43m=\u001b[39;49m\u001b[43mtimeout_info\u001b[49m\u001b[43m,\u001b[49m\n\u001b[1;32m    922\u001b[0m \u001b[43m\u001b[49m\u001b[43m)\u001b[49m\n\u001b[1;32m    924\u001b[0m \u001b[38;5;28;01mreturn\u001b[39;00m response\n",
            "File \u001b[0;32m~/Code/genai-cookbook/venv/lib/python3.12/site-packages/astrapy/core/db.py:203\u001b[0m, in \u001b[0;36mAstraDBCollection._request\u001b[0;34m(self, method, path, json_data, url_params, skip_error_check, timeout_info)\u001b[0m\n\u001b[1;32m    194\u001b[0m \u001b[38;5;28;01mdef\u001b[39;00m \u001b[38;5;21m_request\u001b[39m(\n\u001b[1;32m    195\u001b[0m     \u001b[38;5;28mself\u001b[39m,\n\u001b[1;32m    196\u001b[0m     method: \u001b[38;5;28mstr\u001b[39m \u001b[38;5;241m=\u001b[39m http_methods\u001b[38;5;241m.\u001b[39mPOST,\n\u001b[0;32m   (...)\u001b[0m\n\u001b[1;32m    201\u001b[0m     timeout_info: TimeoutInfoWideType \u001b[38;5;241m=\u001b[39m \u001b[38;5;28;01mNone\u001b[39;00m,\n\u001b[1;32m    202\u001b[0m ) \u001b[38;5;241m-\u001b[39m\u001b[38;5;241m>\u001b[39m API_RESPONSE:\n\u001b[0;32m--> 203\u001b[0m     direct_response \u001b[38;5;241m=\u001b[39m \u001b[43mapi_request\u001b[49m\u001b[43m(\u001b[49m\n\u001b[1;32m    204\u001b[0m \u001b[43m        \u001b[49m\u001b[43mclient\u001b[49m\u001b[38;5;241;43m=\u001b[39;49m\u001b[38;5;28;43mself\u001b[39;49m\u001b[38;5;241;43m.\u001b[39;49m\u001b[43mclient\u001b[49m\u001b[43m,\u001b[49m\n\u001b[1;32m    205\u001b[0m \u001b[43m        \u001b[49m\u001b[43mbase_url\u001b[49m\u001b[38;5;241;43m=\u001b[39;49m\u001b[38;5;28;43mself\u001b[39;49m\u001b[38;5;241;43m.\u001b[39;49m\u001b[43mastra_db\u001b[49m\u001b[38;5;241;43m.\u001b[39;49m\u001b[43mbase_url\u001b[49m\u001b[43m,\u001b[49m\n\u001b[1;32m    206\u001b[0m \u001b[43m        \u001b[49m\u001b[43mauth_header\u001b[49m\u001b[38;5;241;43m=\u001b[39;49m\u001b[43mDEFAULT_AUTH_HEADER\u001b[49m\u001b[43m,\u001b[49m\n\u001b[1;32m    207\u001b[0m \u001b[43m        \u001b[49m\u001b[43mtoken\u001b[49m\u001b[38;5;241;43m=\u001b[39;49m\u001b[38;5;28;43mself\u001b[39;49m\u001b[38;5;241;43m.\u001b[39;49m\u001b[43mastra_db\u001b[49m\u001b[38;5;241;43m.\u001b[39;49m\u001b[43mtoken\u001b[49m\u001b[43m,\u001b[49m\n\u001b[1;32m    208\u001b[0m \u001b[43m        \u001b[49m\u001b[43mmethod\u001b[49m\u001b[38;5;241;43m=\u001b[39;49m\u001b[43mmethod\u001b[49m\u001b[43m,\u001b[49m\n\u001b[1;32m    209\u001b[0m \u001b[43m        \u001b[49m\u001b[43mjson_data\u001b[49m\u001b[38;5;241;43m=\u001b[39;49m\u001b[43mnormalize_for_api\u001b[49m\u001b[43m(\u001b[49m\u001b[43mjson_data\u001b[49m\u001b[43m)\u001b[49m\u001b[43m,\u001b[49m\n\u001b[1;32m    210\u001b[0m \u001b[43m        \u001b[49m\u001b[43murl_params\u001b[49m\u001b[38;5;241;43m=\u001b[39;49m\u001b[43murl_params\u001b[49m\u001b[43m,\u001b[49m\n\u001b[1;32m    211\u001b[0m \u001b[43m        \u001b[49m\u001b[43mpath\u001b[49m\u001b[38;5;241;43m=\u001b[39;49m\u001b[43mpath\u001b[49m\u001b[43m,\u001b[49m\n\u001b[1;32m    212\u001b[0m \u001b[43m        \u001b[49m\u001b[43mskip_error_check\u001b[49m\u001b[38;5;241;43m=\u001b[39;49m\u001b[43mskip_error_check\u001b[49m\u001b[43m,\u001b[49m\n\u001b[1;32m    213\u001b[0m \u001b[43m        \u001b[49m\u001b[43mcaller_name\u001b[49m\u001b[38;5;241;43m=\u001b[39;49m\u001b[38;5;28;43mself\u001b[39;49m\u001b[38;5;241;43m.\u001b[39;49m\u001b[43mcaller_name\u001b[49m\u001b[43m,\u001b[49m\n\u001b[1;32m    214\u001b[0m \u001b[43m        \u001b[49m\u001b[43mcaller_version\u001b[49m\u001b[38;5;241;43m=\u001b[39;49m\u001b[38;5;28;43mself\u001b[39;49m\u001b[38;5;241;43m.\u001b[39;49m\u001b[43mcaller_version\u001b[49m\u001b[43m,\u001b[49m\n\u001b[1;32m    215\u001b[0m \u001b[43m        \u001b[49m\u001b[43mtimeout\u001b[49m\u001b[38;5;241;43m=\u001b[39;49m\u001b[43mto_httpx_timeout\u001b[49m\u001b[43m(\u001b[49m\u001b[43mtimeout_info\u001b[49m\u001b[43m)\u001b[49m\u001b[43m,\u001b[49m\n\u001b[1;32m    216\u001b[0m \u001b[43m    \u001b[49m\u001b[43m)\u001b[49m\n\u001b[1;32m    217\u001b[0m     response \u001b[38;5;241m=\u001b[39m restore_from_api(direct_response)\n",
            "File \u001b[0;32m~/Code/genai-cookbook/venv/lib/python3.12/site-packages/astrapy/core/api.py:119\u001b[0m, in \u001b[0;36mapi_request\u001b[0;34m(client, base_url, auth_header, token, method, json_data, url_params, path, skip_error_check, caller_name, caller_version, timeout)\u001b[0m\n\u001b[1;32m    118\u001b[0m raw_response\u001b[38;5;241m.\u001b[39mraise_for_status()\n\u001b[0;32m--> 119\u001b[0m \u001b[38;5;28;01mreturn\u001b[39;00m \u001b[43mprocess_raw_api_response\u001b[49m\u001b[43m(\u001b[49m\n\u001b[1;32m    120\u001b[0m \u001b[43m    \u001b[49m\u001b[43mraw_response\u001b[49m\u001b[43m,\u001b[49m\u001b[43m \u001b[49m\u001b[43mskip_error_check\u001b[49m\u001b[38;5;241;43m=\u001b[39;49m\u001b[43mskip_error_check\u001b[49m\u001b[43m,\u001b[49m\u001b[43m \u001b[49m\u001b[43mjson_data\u001b[49m\u001b[38;5;241;43m=\u001b[39;49m\u001b[43mjson_data\u001b[49m\n\u001b[1;32m    121\u001b[0m \u001b[43m\u001b[49m\u001b[43m)\u001b[49m\n",
            "File \u001b[0;32m~/Code/genai-cookbook/venv/lib/python3.12/site-packages/astrapy/core/api.py:88\u001b[0m, in \u001b[0;36mprocess_raw_api_response\u001b[0;34m(raw_response, skip_error_check, json_data)\u001b[0m\n\u001b[1;32m     86\u001b[0m \u001b[38;5;28;01mexcept\u001b[39;00m \u001b[38;5;167;01mValueError\u001b[39;00m:\n\u001b[1;32m     87\u001b[0m     \u001b[38;5;66;03m# Handle cases where json() parsing fails (e.g., empty body)\u001b[39;00m\n\u001b[0;32m---> 88\u001b[0m     \u001b[38;5;28;01mraise\u001b[39;00m APIRequestError(raw_response, payload\u001b[38;5;241m=\u001b[39mjson_data)\n",
            "\u001b[0;31mAPIRequestError\u001b[0m: {\"errors\":[{\"message\":\"Document key name constraints violated: property name ('foo@bar.com') contains character(s) not allowed\",\"errorCode\":\"SHRED_DOC_KEY_NAME_VIOLATION\"}]}",
            "\nDuring handling of the above exception, another exception occurred:\n",
            "\u001b[0;31mDataAPIResponseException\u001b[0m                  Traceback (most recent call last)",
            "Cell \u001b[0;32mIn[15], line 6\u001b[0m\n\u001b[1;32m      2\u001b[0m email \u001b[38;5;241m=\u001b[39m \u001b[38;5;28minput\u001b[39m(\u001b[38;5;124m\"\u001b[39m\u001b[38;5;124mEnter attendee\u001b[39m\u001b[38;5;124m'\u001b[39m\u001b[38;5;124ms email address: \u001b[39m\u001b[38;5;124m\"\u001b[39m)\n\u001b[1;32m      4\u001b[0m vector_embedding \u001b[38;5;241m=\u001b[39m model\u001b[38;5;241m.\u001b[39mencode(name \u001b[38;5;241m+\u001b[39m email)\n\u001b[0;32m----> 6\u001b[0m \u001b[43mcollection\u001b[49m\u001b[38;5;241;43m.\u001b[39;49m\u001b[43minsert_one\u001b[49m\u001b[43m(\u001b[49m\u001b[43m{\u001b[49m\u001b[43m \u001b[49m\u001b[43mname\u001b[49m\u001b[43m:\u001b[49m\u001b[43m \u001b[49m\u001b[43mname\u001b[49m\u001b[43m,\u001b[49m\u001b[43m \u001b[49m\u001b[43memail\u001b[49m\u001b[43m:\u001b[49m\u001b[43m \u001b[49m\u001b[43memail\u001b[49m\u001b[43m \u001b[49m\u001b[43m}\u001b[49m\u001b[43m,\u001b[49m\u001b[43m \u001b[49m\u001b[43mvector\u001b[49m\u001b[38;5;241;43m=\u001b[39;49m\u001b[43mvector_embedding\u001b[49m\u001b[43m)\u001b[49m\n\u001b[1;32m      8\u001b[0m \u001b[38;5;66;03m# show vector embedding\u001b[39;00m\n\u001b[1;32m      9\u001b[0m \u001b[38;5;28mprint\u001b[39m(vector_embedding)\n",
            "File \u001b[0;32m~/Code/genai-cookbook/venv/lib/python3.12/site-packages/astrapy/exceptions.py:665\u001b[0m, in \u001b[0;36mrecast_method_sync.<locals>._wrapped_sync\u001b[0;34m(*pargs, **kwargs)\u001b[0m\n\u001b[1;32m    663\u001b[0m     \u001b[38;5;28;01mreturn\u001b[39;00m method(\u001b[38;5;241m*\u001b[39mpargs, \u001b[38;5;241m*\u001b[39m\u001b[38;5;241m*\u001b[39mkwargs)\n\u001b[1;32m    664\u001b[0m \u001b[38;5;28;01mexcept\u001b[39;00m APIRequestError \u001b[38;5;28;01mas\u001b[39;00m exc:\n\u001b[0;32m--> 665\u001b[0m     \u001b[38;5;28;01mraise\u001b[39;00m DataAPIResponseException\u001b[38;5;241m.\u001b[39mfrom_response(\n\u001b[1;32m    666\u001b[0m         command\u001b[38;5;241m=\u001b[39mexc\u001b[38;5;241m.\u001b[39mpayload, raw_response\u001b[38;5;241m=\u001b[39mexc\u001b[38;5;241m.\u001b[39mresponse\u001b[38;5;241m.\u001b[39mjson()\n\u001b[1;32m    667\u001b[0m     )\n\u001b[1;32m    668\u001b[0m \u001b[38;5;28;01mexcept\u001b[39;00m httpx\u001b[38;5;241m.\u001b[39mTimeoutException \u001b[38;5;28;01mas\u001b[39;00m texc:\n\u001b[1;32m    669\u001b[0m     \u001b[38;5;28;01mraise\u001b[39;00m to_dataapi_timeout_exception(texc)\n",
            "\u001b[0;31mDataAPIResponseException\u001b[0m: Document key name constraints violated: property name ('foo@bar.com') contains character(s) not allowed"
          ]
        }
      ],
      "source": [
        "name = input(\"Enter attendee's name: \")\n",
        "email = input(\"Enter attendee's email address: \")\n",
        "\n",
        "vector_embedding = model.encode(name + email)\n",
        "\n",
        "collection.insert_one({ \"name\": name, \"email\": email }, vector=vector_embedding)\n",
        "\n",
        "# show vector embedding\n",
        "print(vector_embedding)"
      ]
    },
    {
      "cell_type": "markdown",
      "metadata": {
        "id": "S5awoSXAgeGh"
      },
      "source": [
        "## Draw winning names"
      ]
    },
    {
      "cell_type": "code",
      "execution_count": null,
      "metadata": {
        "id": "j6VcUtUhg3ZP"
      },
      "outputs": [],
      "source": [
        "# Generate a vector embedding based on a random string\n",
        "search_string = input(\"Enter a phrase to generate an embedding: \")\n",
        "winner_embedding = model.encode(search_string)\n",
        "print(winner_embedding.tolist())"
      ]
    },
    {
      "cell_type": "code",
      "execution_count": null,
      "metadata": {},
      "outputs": [],
      "source": [
        "# run a vector search on this \"random\" embedding, and the top result is your winner!\n",
        "results = collection.vector_find(winner_embedding.tolist(), limit=9, include_similarity=1, fields={\"name\",\"email\"})\n",
        "print(str(results).replace(\"}, {\",\"},\\n{\"))"
      ]
    }
  ],
  "metadata": {
    "colab": {
      "provenance": []
    },
    "kernelspec": {
      "display_name": "Python 3",
      "name": "python3"
    },
    "language_info": {
      "codemirror_mode": {
        "name": "ipython",
        "version": 3
      },
      "file_extension": ".py",
      "mimetype": "text/x-python",
      "name": "python",
      "nbconvert_exporter": "python",
      "pygments_lexer": "ipython3",
      "version": "3.12.1"
    }
  },
  "nbformat": 4,
  "nbformat_minor": 0
}
